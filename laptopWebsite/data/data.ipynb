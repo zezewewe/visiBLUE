{
 "cells": [
  {
   "cell_type": "code",
   "execution_count": 34,
   "metadata": {},
   "outputs": [],
   "source": [
    "import os\n",
    "import pandas as pd\n",
    "from datetime import datetime\n",
    "from matplotlib import pyplot as plt\n",
    "import numpy as np\n",
    "from scipy.ndimage import gaussian_filter1d"
   ]
  },
  {
   "cell_type": "code",
   "execution_count": 35,
   "metadata": {},
   "outputs": [],
   "source": [
    "# Design the Gaussian filter\n",
    "def gaussian_filter_1d(sigma):\n",
    "    # sigma: the parameter sigma in the Gaussian kernel (unit: pixel)\n",
    "    #\n",
    "    # return: a 1D array for the Gaussian kernel\n",
    "    size = 3*sigma #ignore values outside of 3*sigma\n",
    "    h = np.ones(2*size) \n",
    "    for x in range(-size,size):\n",
    "        h[x+size] = (1/(np.sqrt(2*np.pi)*sigma))*np.exp(-(np.square(x)/(2*np.square(sigma))))\n",
    "    return h\n",
    "h = gaussian_filter_1d(5)"
   ]
  },
  {
   "cell_type": "code",
   "execution_count": 36,
   "metadata": {},
   "outputs": [],
   "source": [
    "current_directory_split = os.getcwd().split('\\\\')\n",
    "data_directory = ''\n",
    "for i in current_directory_split[:-2]:\n",
    "    data_directory += i + '\\\\'\n",
    "data_directory = data_directory + 'dataLog.csv'\n",
    "df = pd.read_csv(data_directory)"
   ]
  },
  {
   "cell_type": "code",
   "execution_count": 37,
   "metadata": {},
   "outputs": [
    {
     "data": {
      "text/html": [
       "<div>\n",
       "<style scoped>\n",
       "    .dataframe tbody tr th:only-of-type {\n",
       "        vertical-align: middle;\n",
       "    }\n",
       "\n",
       "    .dataframe tbody tr th {\n",
       "        vertical-align: top;\n",
       "    }\n",
       "\n",
       "    .dataframe thead th {\n",
       "        text-align: right;\n",
       "    }\n",
       "</style>\n",
       "<table border=\"1\" class=\"dataframe\">\n",
       "  <thead>\n",
       "    <tr style=\"text-align: right;\">\n",
       "      <th></th>\n",
       "      <th>timeNow</th>\n",
       "      <th>harmfulHEVIntensity</th>\n",
       "      <th>overallLightIntensity</th>\n",
       "      <th>artificialLightBool</th>\n",
       "    </tr>\n",
       "  </thead>\n",
       "  <tbody>\n",
       "    <tr>\n",
       "      <th>0</th>\n",
       "      <td>2022-03-01 00:14:02</td>\n",
       "      <td>0.239304</td>\n",
       "      <td>0.739202</td>\n",
       "      <td>1</td>\n",
       "    </tr>\n",
       "    <tr>\n",
       "      <th>1</th>\n",
       "      <td>2022-03-01 00:14:08</td>\n",
       "      <td>0.242296</td>\n",
       "      <td>0.741949</td>\n",
       "      <td>1</td>\n",
       "    </tr>\n",
       "    <tr>\n",
       "      <th>2</th>\n",
       "      <td>2022-03-01 00:14:13</td>\n",
       "      <td>0.242145</td>\n",
       "      <td>0.741479</td>\n",
       "      <td>1</td>\n",
       "    </tr>\n",
       "    <tr>\n",
       "      <th>3</th>\n",
       "      <td>2022-03-01 00:14:18</td>\n",
       "      <td>0.242242</td>\n",
       "      <td>0.741799</td>\n",
       "      <td>1</td>\n",
       "    </tr>\n",
       "    <tr>\n",
       "      <th>4</th>\n",
       "      <td>2022-03-01 00:14:23</td>\n",
       "      <td>0.242285</td>\n",
       "      <td>0.742159</td>\n",
       "      <td>1</td>\n",
       "    </tr>\n",
       "    <tr>\n",
       "      <th>...</th>\n",
       "      <td>...</td>\n",
       "      <td>...</td>\n",
       "      <td>...</td>\n",
       "      <td>...</td>\n",
       "    </tr>\n",
       "    <tr>\n",
       "      <th>115</th>\n",
       "      <td>2022-03-01 00:24:00</td>\n",
       "      <td>0.242472</td>\n",
       "      <td>0.741700</td>\n",
       "      <td>1</td>\n",
       "    </tr>\n",
       "    <tr>\n",
       "      <th>116</th>\n",
       "      <td>2022-03-01 00:24:06</td>\n",
       "      <td>0.242474</td>\n",
       "      <td>0.742319</td>\n",
       "      <td>1</td>\n",
       "    </tr>\n",
       "    <tr>\n",
       "      <th>117</th>\n",
       "      <td>2022-03-01 00:24:11</td>\n",
       "      <td>0.242459</td>\n",
       "      <td>0.742426</td>\n",
       "      <td>1</td>\n",
       "    </tr>\n",
       "    <tr>\n",
       "      <th>118</th>\n",
       "      <td>2022-03-01 00:24:16</td>\n",
       "      <td>0.242501</td>\n",
       "      <td>0.742172</td>\n",
       "      <td>1</td>\n",
       "    </tr>\n",
       "    <tr>\n",
       "      <th>119</th>\n",
       "      <td>2022-03-01 00:24:21</td>\n",
       "      <td>0.242462</td>\n",
       "      <td>0.742415</td>\n",
       "      <td>1</td>\n",
       "    </tr>\n",
       "  </tbody>\n",
       "</table>\n",
       "<p>120 rows × 4 columns</p>\n",
       "</div>"
      ],
      "text/plain": [
       "                timeNow  harmfulHEVIntensity  overallLightIntensity  \\\n",
       "0   2022-03-01 00:14:02             0.239304               0.739202   \n",
       "1   2022-03-01 00:14:08             0.242296               0.741949   \n",
       "2   2022-03-01 00:14:13             0.242145               0.741479   \n",
       "3   2022-03-01 00:14:18             0.242242               0.741799   \n",
       "4   2022-03-01 00:14:23             0.242285               0.742159   \n",
       "..                  ...                  ...                    ...   \n",
       "115 2022-03-01 00:24:00             0.242472               0.741700   \n",
       "116 2022-03-01 00:24:06             0.242474               0.742319   \n",
       "117 2022-03-01 00:24:11             0.242459               0.742426   \n",
       "118 2022-03-01 00:24:16             0.242501               0.742172   \n",
       "119 2022-03-01 00:24:21             0.242462               0.742415   \n",
       "\n",
       "     artificialLightBool  \n",
       "0                      1  \n",
       "1                      1  \n",
       "2                      1  \n",
       "3                      1  \n",
       "4                      1  \n",
       "..                   ...  \n",
       "115                    1  \n",
       "116                    1  \n",
       "117                    1  \n",
       "118                    1  \n",
       "119                    1  \n",
       "\n",
       "[120 rows x 4 columns]"
      ]
     },
     "execution_count": 37,
     "metadata": {},
     "output_type": "execute_result"
    }
   ],
   "source": [
    "df.index = df.index+1\n",
    "df.loc[0] = df.columns\n",
    "df.sort_index(inplace=True)\n",
    "df = df[df.columns[0:4]].copy()\n",
    "df.columns = ['timeNow','harmfulHEVIntensity', 'overallLightIntensity', 'artificialLightBool']\n",
    "df[['harmfulHEVIntensity', 'overallLightIntensity', 'artificialLightBool']] = df[['harmfulHEVIntensity', 'overallLightIntensity', 'artificialLightBool']].apply(pd.to_numeric)\n",
    "df['timeNow'] = pd.to_datetime(df['timeNow']).copy()\n",
    "df"
   ]
  },
  {
   "cell_type": "code",
   "execution_count": 38,
   "metadata": {},
   "outputs": [
    {
     "data": {
      "text/plain": [
       "Timestamp('2022-03-01 00:24:21')"
      ]
     },
     "execution_count": 38,
     "metadata": {},
     "output_type": "execute_result"
    }
   ],
   "source": [
    "df['timeNow'].iloc[-1]"
   ]
  },
  {
   "cell_type": "code",
   "execution_count": 39,
   "metadata": {},
   "outputs": [
    {
     "data": {
      "text/html": [
       "<div>\n",
       "<style scoped>\n",
       "    .dataframe tbody tr th:only-of-type {\n",
       "        vertical-align: middle;\n",
       "    }\n",
       "\n",
       "    .dataframe tbody tr th {\n",
       "        vertical-align: top;\n",
       "    }\n",
       "\n",
       "    .dataframe thead th {\n",
       "        text-align: right;\n",
       "    }\n",
       "</style>\n",
       "<table border=\"1\" class=\"dataframe\">\n",
       "  <thead>\n",
       "    <tr style=\"text-align: right;\">\n",
       "      <th></th>\n",
       "      <th>timeNow</th>\n",
       "      <th>harmfulHEVIntensity</th>\n",
       "      <th>overallLightIntensity</th>\n",
       "      <th>artificialLightBool</th>\n",
       "    </tr>\n",
       "  </thead>\n",
       "  <tbody>\n",
       "    <tr>\n",
       "      <th>0</th>\n",
       "      <td>2022-03-01 00:14:02</td>\n",
       "      <td>0.239304</td>\n",
       "      <td>0.739202</td>\n",
       "      <td>1</td>\n",
       "    </tr>\n",
       "    <tr>\n",
       "      <th>1</th>\n",
       "      <td>2022-03-01 00:14:08</td>\n",
       "      <td>0.242296</td>\n",
       "      <td>0.741949</td>\n",
       "      <td>1</td>\n",
       "    </tr>\n",
       "    <tr>\n",
       "      <th>2</th>\n",
       "      <td>2022-03-01 00:14:13</td>\n",
       "      <td>0.242145</td>\n",
       "      <td>0.741479</td>\n",
       "      <td>1</td>\n",
       "    </tr>\n",
       "    <tr>\n",
       "      <th>3</th>\n",
       "      <td>2022-03-01 00:14:18</td>\n",
       "      <td>0.242242</td>\n",
       "      <td>0.741799</td>\n",
       "      <td>1</td>\n",
       "    </tr>\n",
       "    <tr>\n",
       "      <th>4</th>\n",
       "      <td>2022-03-01 00:14:23</td>\n",
       "      <td>0.242285</td>\n",
       "      <td>0.742159</td>\n",
       "      <td>1</td>\n",
       "    </tr>\n",
       "    <tr>\n",
       "      <th>...</th>\n",
       "      <td>...</td>\n",
       "      <td>...</td>\n",
       "      <td>...</td>\n",
       "      <td>...</td>\n",
       "    </tr>\n",
       "    <tr>\n",
       "      <th>115</th>\n",
       "      <td>2022-03-01 00:24:00</td>\n",
       "      <td>0.242472</td>\n",
       "      <td>0.741700</td>\n",
       "      <td>1</td>\n",
       "    </tr>\n",
       "    <tr>\n",
       "      <th>116</th>\n",
       "      <td>2022-03-01 00:24:06</td>\n",
       "      <td>0.242474</td>\n",
       "      <td>0.742319</td>\n",
       "      <td>1</td>\n",
       "    </tr>\n",
       "    <tr>\n",
       "      <th>117</th>\n",
       "      <td>2022-03-01 00:24:11</td>\n",
       "      <td>0.242459</td>\n",
       "      <td>0.742426</td>\n",
       "      <td>1</td>\n",
       "    </tr>\n",
       "    <tr>\n",
       "      <th>118</th>\n",
       "      <td>2022-03-01 00:24:16</td>\n",
       "      <td>0.242501</td>\n",
       "      <td>0.742172</td>\n",
       "      <td>1</td>\n",
       "    </tr>\n",
       "    <tr>\n",
       "      <th>119</th>\n",
       "      <td>2022-03-01 00:24:21</td>\n",
       "      <td>0.242462</td>\n",
       "      <td>0.742415</td>\n",
       "      <td>1</td>\n",
       "    </tr>\n",
       "  </tbody>\n",
       "</table>\n",
       "<p>120 rows × 4 columns</p>\n",
       "</div>"
      ],
      "text/plain": [
       "                timeNow  harmfulHEVIntensity  overallLightIntensity  \\\n",
       "0   2022-03-01 00:14:02             0.239304               0.739202   \n",
       "1   2022-03-01 00:14:08             0.242296               0.741949   \n",
       "2   2022-03-01 00:14:13             0.242145               0.741479   \n",
       "3   2022-03-01 00:14:18             0.242242               0.741799   \n",
       "4   2022-03-01 00:14:23             0.242285               0.742159   \n",
       "..                  ...                  ...                    ...   \n",
       "115 2022-03-01 00:24:00             0.242472               0.741700   \n",
       "116 2022-03-01 00:24:06             0.242474               0.742319   \n",
       "117 2022-03-01 00:24:11             0.242459               0.742426   \n",
       "118 2022-03-01 00:24:16             0.242501               0.742172   \n",
       "119 2022-03-01 00:24:21             0.242462               0.742415   \n",
       "\n",
       "     artificialLightBool  \n",
       "0                      1  \n",
       "1                      1  \n",
       "2                      1  \n",
       "3                      1  \n",
       "4                      1  \n",
       "..                   ...  \n",
       "115                    1  \n",
       "116                    1  \n",
       "117                    1  \n",
       "118                    1  \n",
       "119                    1  \n",
       "\n",
       "[120 rows x 4 columns]"
      ]
     },
     "execution_count": 39,
     "metadata": {},
     "output_type": "execute_result"
    }
   ],
   "source": [
    "time_of_last_collection = df['timeNow'].iloc[-1]\n",
    "df.loc[((time_of_last_collection - df.timeNow).dt.total_seconds()/60) < 15]"
   ]
  },
  {
   "cell_type": "code",
   "execution_count": 40,
   "metadata": {},
   "outputs": [],
   "source": [
    "data = []\n",
    "harmfulHEVIntensity_data = list(df['harmfulHEVIntensity'])\n",
    "overallLightIntensity_data = list(df['overallLightIntensity'])\n",
    "data.append(harmfulHEVIntensity_data)\n",
    "data.append(overallLightIntensity_data)\n",
    "data.append([0.4 for x in harmfulHEVIntensity_data])\n",
    "labels = list(df['timeNow'].dt.strftime('%Y-%m-%d, %H:%M'))"
   ]
  },
  {
   "cell_type": "code",
   "execution_count": 41,
   "metadata": {},
   "outputs": [],
   "source": [
    "df['harmfulHEVIntensity'] = gaussian_filter1d(df['harmfulHEVIntensity'].values, 5)"
   ]
  },
  {
   "cell_type": "code",
   "execution_count": 42,
   "metadata": {},
   "outputs": [
    {
     "data": {
      "text/plain": [
       "0"
      ]
     },
     "execution_count": 42,
     "metadata": {},
     "output_type": "execute_result"
    }
   ],
   "source": [
    "threshold = 0.4\n",
    "number_of_entries = len(df)\n",
    "number_of_entries_more_than_threshold = len(df.loc[df.harmfulHEVIntensity > threshold])\n",
    "perc = round(number_of_entries_more_than_threshold/number_of_entries*100)\n",
    "perc"
   ]
  },
  {
   "cell_type": "code",
   "execution_count": 43,
   "metadata": {},
   "outputs": [
    {
     "data": {
      "text/plain": [
       "[<matplotlib.lines.Line2D at 0x254426c5700>]"
      ]
     },
     "execution_count": 43,
     "metadata": {},
     "output_type": "execute_result"
    },
    {
     "data": {
      "image/png": "[encoded data removed]",
      "text/plain": [
       "<Figure size 432x288 with 1 Axes>"
      ]
     },
     "metadata": {
      "needs_background": "light"
     },
     "output_type": "display_data"
    }
   ],
   "source": [
    "data = df['harmfulHEVIntensity']\n",
    "plt.plot(data)"
   ]
  },
  {
   "cell_type": "code",
   "execution_count": 46,
   "metadata": {},
   "outputs": [],
   "source": [
    "\n",
    "blu = df['harmfulHEVIntensity'].apply(lambda x: x if x <= 0.4 else np.NaN)"
   ]
  },
  {
   "cell_type": "code",
   "execution_count": 47,
   "metadata": {},
   "outputs": [
    {
     "data": {
      "text/plain": [
       "0      0.241797\n",
       "1      0.241816\n",
       "2      0.241853\n",
       "3      0.241904\n",
       "4      0.241962\n",
       "         ...   \n",
       "115    0.242490\n",
       "116    0.242487\n",
       "117    0.242486\n",
       "118    0.242484\n",
       "119    0.242484\n",
       "Name: harmfulHEVIntensity, Length: 120, dtype: float64"
      ]
     },
     "execution_count": 47,
     "metadata": {},
     "output_type": "execute_result"
    }
   ],
   "source": [
    "blu"
   ]
  },
  {
   "cell_type": "code",
   "execution_count": null,
   "metadata": {},
   "outputs": [],
   "source": []
  }
 ],
 "metadata": {
  "interpreter": {
   "hash": "36a240c41be2d6197fe7733e5ded9213cece68fa056cf7978d7dba6ad6560f82"
  },
  "kernelspec": {
   "display_name": "Python 3.8.8 ('base')",
   "language": "python",
   "name": "python3"
  },
  "language_info": {
   "codemirror_mode": {
    "name": "ipython",
    "version": 3
   },
   "file_extension": ".py",
   "mimetype": "text/x-python",
   "name": "python",
   "nbconvert_exporter": "python",
   "pygments_lexer": "ipython3",
   "version": "3.9.6"
  },
  "orig_nbformat": 4
 },
 "nbformat": 4,
 "nbformat_minor": 2
}
